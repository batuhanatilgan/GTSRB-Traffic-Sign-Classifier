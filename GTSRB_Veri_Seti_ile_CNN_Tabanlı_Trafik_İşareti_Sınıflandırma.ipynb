{
  "nbformat": 4,
  "nbformat_minor": 0,
  "metadata": {
    "colab": {
      "provenance": [],
      "gpuType": "T4"
    },
    "kernelspec": {
      "name": "python3",
      "display_name": "Python 3"
    },
    "language_info": {
      "name": "python"
    },
    "accelerator": "GPU"
  },
  "cells": [
    {
      "cell_type": "code",
      "execution_count": 1,
      "metadata": {
        "colab": {
          "base_uri": "https://localhost:8080/"
        },
        "id": "mjUzYoy-Vio1",
        "outputId": "e80cf9de-14d4-479b-9da7-378ce7f63203"
      },
      "outputs": [
        {
          "output_type": "stream",
          "name": "stdout",
          "text": [
            "Python: 3.12.11 (main, Jun  4 2025, 08:56:18) [GCC 11.4.0]\n",
            "TensorFlow: 2.19.0\n",
            "Thu Oct  2 14:34:10 2025       \n",
            "+-----------------------------------------------------------------------------------------+\n",
            "| NVIDIA-SMI 550.54.15              Driver Version: 550.54.15      CUDA Version: 12.4     |\n",
            "|-----------------------------------------+------------------------+----------------------+\n",
            "| GPU  Name                 Persistence-M | Bus-Id          Disp.A | Volatile Uncorr. ECC |\n",
            "| Fan  Temp   Perf          Pwr:Usage/Cap |           Memory-Usage | GPU-Util  Compute M. |\n",
            "|                                         |                        |               MIG M. |\n",
            "|=========================================+========================+======================|\n",
            "|   0  Tesla T4                       Off |   00000000:00:04.0 Off |                    0 |\n",
            "| N/A   47C    P8             10W /   70W |       0MiB /  15360MiB |      0%      Default |\n",
            "|                                         |                        |                  N/A |\n",
            "+-----------------------------------------+------------------------+----------------------+\n",
            "                                                                                         \n",
            "+-----------------------------------------------------------------------------------------+\n",
            "| Processes:                                                                              |\n",
            "|  GPU   GI   CI        PID   Type   Process name                              GPU Memory |\n",
            "|        ID   ID                                                               Usage      |\n",
            "|=========================================================================================|\n",
            "|  No running processes found                                                             |\n",
            "+-----------------------------------------------------------------------------------------+\n"
          ]
        }
      ],
      "source": [
        "# Hücre 1 - Ortam kontrolü\n",
        "import sys, os\n",
        "print(\"Python:\", sys.version.splitlines()[0])\n",
        "try:\n",
        "    import tensorflow as tf\n",
        "    print(\"TensorFlow:\", tf.__version__)\n",
        "except Exception as e:\n",
        "    print(\"TensorFlow import hatası:\", e)\n",
        "\n",
        "# GPU\n",
        "!nvidia-smi || true\n",
        "\n",
        "# Kaggle kurulumu\n",
        "!pip install -q kaggle\n"
      ]
    },
    {
      "cell_type": "code",
      "source": [
        "# Hücre 2\n",
        "import os, shutil\n",
        "if os.path.exists('kaggle.json'):\n",
        "    os.makedirs('/root/.kaggle', exist_ok=True)\n",
        "    shutil.copy('kaggle.json', '/root/.kaggle/kaggle.json')\n",
        "    os.chmod('/root/.kaggle/kaggle.json', 0o600)\n",
        "    print(\"kaggle.json /root/.kaggle/kaggle.json olarak yüklendi.\")\n",
        "else:\n",
        "    print(\"kaggle.json bulunamadı. Lütfen sol panelden upload edin (Files -> Upload).\")\n"
      ],
      "metadata": {
        "colab": {
          "base_uri": "https://localhost:8080/"
        },
        "id": "nUlwlPXrVvG2",
        "outputId": "c4a2c032-af80-4696-8756-06b9c7784733"
      },
      "execution_count": 2,
      "outputs": [
        {
          "output_type": "stream",
          "name": "stdout",
          "text": [
            "kaggle.json /root/.kaggle/kaggle.json olarak yüklendi.\n"
          ]
        }
      ]
    },
    {
      "cell_type": "code",
      "source": [
        "# Hücre 3 - Dataset indir\n",
        "!kaggle datasets download -d meowmeowmeowmeowmeow/gtsrb-german-traffic-sign -p /content/dataset --unzip\n",
        "\n",
        "#Kontrol\n",
        "!ls -la /content/dataset | sed -n '1,200p'\n"
      ],
      "metadata": {
        "colab": {
          "base_uri": "https://localhost:8080/"
        },
        "id": "0BEiBUkrVwdN",
        "outputId": "a56253a4-fb7b-4b18-c076-259a5bf0484c"
      },
      "execution_count": 3,
      "outputs": [
        {
          "output_type": "stream",
          "name": "stdout",
          "text": [
            "Dataset URL: https://www.kaggle.com/datasets/meowmeowmeowmeowmeow/gtsrb-german-traffic-sign\n",
            "License(s): CC0-1.0\n",
            "Downloading gtsrb-german-traffic-sign.zip to /content/dataset\n",
            " 97% 595M/612M [00:05<00:00, 169MB/s]\n",
            "100% 612M/612M [00:05<00:00, 120MB/s]\n",
            "total 3068\n",
            "drwxr-xr-x  8 root root    4096 Oct  2 14:34 .\n",
            "drwxr-xr-x  1 root root    4096 Oct  2 14:34 ..\n",
            "drwxr-xr-x  2 root root    4096 Oct  2 14:34 meta\n",
            "drwxr-xr-x  2 root root    4096 Oct  2 14:34 Meta\n",
            "-rw-r--r--  1 root root    1033 Oct  2 14:34 Meta.csv\n",
            "drwxr-xr-x  2 root root  368640 Oct  2 14:34 test\n",
            "drwxr-xr-x  2 root root  368640 Oct  2 14:34 Test\n",
            "-rw-r--r--  1 root root  427897 Oct  2 14:34 Test.csv\n",
            "drwxr-xr-x 45 root root    4096 Oct  2 14:34 train\n",
            "drwxr-xr-x 45 root root    4096 Oct  2 14:34 Train\n",
            "-rw-r--r--  1 root root 1940896 Oct  2 14:34 Train.csv\n"
          ]
        }
      ]
    },
    {
      "cell_type": "code",
      "source": [
        "# Hücre 4\n",
        "import os, glob\n",
        "\n",
        "# Veri setinin ana dizin yolunu tanımlar.\n",
        "base = '/content/dataset'\n",
        "\n",
        "# Ana dizinden başlayarak dizin yapısını keşfeder ve içeriğini özetler.\n",
        "for root, dirs, files in os.walk(base):\n",
        "    if root.count(os.sep) - base.count(os.sep) <= 2:\n",
        "        print(root, \"->\", len(files), \"files,\", len(dirs), \"dirs\")\n",
        "    # Ana dizinden itibaren 3 seviyeden daha derinlere inmez.\n",
        "    if root.count(os.sep) - base.count(os.sep) > 3:\n",
        "        continue\n",
        "candidates = [\n",
        "    os.path.join(base,'Train'),\n",
        "    os.path.join(base,'Training'),\n",
        "    os.path.join(base,'Final_Training/Images'),\n",
        "    os.path.join(base,'GTSRB/Final_Training/Images'),\n",
        "]\n",
        "\n",
        "# Dizinleri kontrol eder ve bulunan ilk geçerli dizini yazdırır.\n",
        "for c in candidates:\n",
        "    if os.path.exists(c):\n",
        "        print(\"Bulunan tipik train dizini:\", c)"
      ],
      "metadata": {
        "colab": {
          "base_uri": "https://localhost:8080/"
        },
        "id": "jIv5pD5cVxvJ",
        "outputId": "8932ba14-7212-46c7-8268-3d3c69250cee"
      },
      "execution_count": 4,
      "outputs": [
        {
          "output_type": "stream",
          "name": "stdout",
          "text": [
            "/content/dataset -> 3 files, 6 dirs\n",
            "/content/dataset/meta -> 45 files, 0 dirs\n",
            "/content/dataset/Train -> 0 files, 43 dirs\n",
            "/content/dataset/Train/24 -> 270 files, 0 dirs\n",
            "/content/dataset/Train/20 -> 360 files, 0 dirs\n",
            "/content/dataset/Train/39 -> 300 files, 0 dirs\n",
            "/content/dataset/Train/33 -> 689 files, 0 dirs\n",
            "/content/dataset/Train/14 -> 780 files, 0 dirs\n",
            "/content/dataset/Train/40 -> 360 files, 0 dirs\n",
            "/content/dataset/Train/10 -> 2010 files, 0 dirs\n",
            "/content/dataset/Train/4 -> 1980 files, 0 dirs\n",
            "/content/dataset/Train/2 -> 2250 files, 0 dirs\n",
            "/content/dataset/Train/26 -> 600 files, 0 dirs\n",
            "/content/dataset/Train/30 -> 450 files, 0 dirs\n",
            "/content/dataset/Train/28 -> 540 files, 0 dirs\n",
            "/content/dataset/Train/18 -> 1200 files, 0 dirs\n",
            "/content/dataset/Train/32 -> 240 files, 0 dirs\n",
            "/content/dataset/Train/29 -> 270 files, 0 dirs\n",
            "/content/dataset/Train/23 -> 510 files, 0 dirs\n",
            "/content/dataset/Train/13 -> 2160 files, 0 dirs\n",
            "/content/dataset/Train/31 -> 780 files, 0 dirs\n",
            "/content/dataset/Train/15 -> 630 files, 0 dirs\n",
            "/content/dataset/Train/11 -> 1320 files, 0 dirs\n",
            "/content/dataset/Train/9 -> 1470 files, 0 dirs\n",
            "/content/dataset/Train/0 -> 210 files, 0 dirs\n",
            "/content/dataset/Train/27 -> 240 files, 0 dirs\n",
            "/content/dataset/Train/7 -> 1440 files, 0 dirs\n",
            "/content/dataset/Train/37 -> 210 files, 0 dirs\n",
            "/content/dataset/Train/19 -> 210 files, 0 dirs\n",
            "/content/dataset/Train/8 -> 1410 files, 0 dirs\n",
            "/content/dataset/Train/6 -> 420 files, 0 dirs\n",
            "/content/dataset/Train/36 -> 390 files, 0 dirs\n",
            "/content/dataset/Train/16 -> 420 files, 0 dirs\n",
            "/content/dataset/Train/25 -> 1500 files, 0 dirs\n",
            "/content/dataset/Train/38 -> 2070 files, 0 dirs\n",
            "/content/dataset/Train/35 -> 1200 files, 0 dirs\n",
            "/content/dataset/Train/1 -> 2220 files, 0 dirs\n",
            "/content/dataset/Train/21 -> 330 files, 0 dirs\n",
            "/content/dataset/Train/22 -> 390 files, 0 dirs\n",
            "/content/dataset/Train/12 -> 2100 files, 0 dirs\n",
            "/content/dataset/Train/34 -> 420 files, 0 dirs\n",
            "/content/dataset/Train/42 -> 240 files, 0 dirs\n",
            "/content/dataset/Train/3 -> 1410 files, 0 dirs\n",
            "/content/dataset/Train/41 -> 240 files, 0 dirs\n",
            "/content/dataset/Train/17 -> 1110 files, 0 dirs\n",
            "/content/dataset/Train/5 -> 1860 files, 0 dirs\n",
            "/content/dataset/train -> 0 files, 43 dirs\n",
            "/content/dataset/train/24 -> 270 files, 0 dirs\n",
            "/content/dataset/train/20 -> 360 files, 0 dirs\n",
            "/content/dataset/train/39 -> 300 files, 0 dirs\n",
            "/content/dataset/train/33 -> 689 files, 0 dirs\n",
            "/content/dataset/train/14 -> 780 files, 0 dirs\n",
            "/content/dataset/train/40 -> 360 files, 0 dirs\n",
            "/content/dataset/train/10 -> 2010 files, 0 dirs\n",
            "/content/dataset/train/4 -> 1980 files, 0 dirs\n",
            "/content/dataset/train/2 -> 2250 files, 0 dirs\n",
            "/content/dataset/train/26 -> 600 files, 0 dirs\n",
            "/content/dataset/train/30 -> 450 files, 0 dirs\n",
            "/content/dataset/train/28 -> 540 files, 0 dirs\n",
            "/content/dataset/train/18 -> 1200 files, 0 dirs\n",
            "/content/dataset/train/32 -> 240 files, 0 dirs\n",
            "/content/dataset/train/29 -> 270 files, 0 dirs\n",
            "/content/dataset/train/23 -> 510 files, 0 dirs\n",
            "/content/dataset/train/13 -> 2160 files, 0 dirs\n",
            "/content/dataset/train/31 -> 780 files, 0 dirs\n",
            "/content/dataset/train/15 -> 630 files, 0 dirs\n",
            "/content/dataset/train/11 -> 1320 files, 0 dirs\n",
            "/content/dataset/train/9 -> 1470 files, 0 dirs\n",
            "/content/dataset/train/0 -> 210 files, 0 dirs\n",
            "/content/dataset/train/27 -> 240 files, 0 dirs\n",
            "/content/dataset/train/7 -> 1440 files, 0 dirs\n",
            "/content/dataset/train/37 -> 210 files, 0 dirs\n",
            "/content/dataset/train/19 -> 210 files, 0 dirs\n",
            "/content/dataset/train/8 -> 1410 files, 0 dirs\n",
            "/content/dataset/train/6 -> 420 files, 0 dirs\n",
            "/content/dataset/train/36 -> 390 files, 0 dirs\n",
            "/content/dataset/train/16 -> 420 files, 0 dirs\n",
            "/content/dataset/train/25 -> 1500 files, 0 dirs\n",
            "/content/dataset/train/38 -> 2070 files, 0 dirs\n",
            "/content/dataset/train/35 -> 1200 files, 0 dirs\n",
            "/content/dataset/train/1 -> 2220 files, 0 dirs\n",
            "/content/dataset/train/21 -> 330 files, 0 dirs\n",
            "/content/dataset/train/22 -> 390 files, 0 dirs\n",
            "/content/dataset/train/12 -> 2100 files, 0 dirs\n",
            "/content/dataset/train/34 -> 420 files, 0 dirs\n",
            "/content/dataset/train/42 -> 240 files, 0 dirs\n",
            "/content/dataset/train/3 -> 1410 files, 0 dirs\n",
            "/content/dataset/train/41 -> 240 files, 0 dirs\n",
            "/content/dataset/train/17 -> 1110 files, 0 dirs\n",
            "/content/dataset/train/5 -> 1860 files, 0 dirs\n",
            "/content/dataset/Test -> 12631 files, 0 dirs\n",
            "/content/dataset/test -> 12631 files, 0 dirs\n",
            "/content/dataset/Meta -> 45 files, 0 dirs\n",
            "Bulunan tipik train dizini: /content/dataset/Train\n"
          ]
        }
      ]
    },
    {
      "cell_type": "code",
      "source": [
        "# Hücre 5 - Veri yükleme fonksiyonları\n",
        "import cv2\n",
        "import numpy as np\n",
        "import os, glob\n",
        "\n",
        "def load_images_from_class_folders(folder, img_size=32, max_per_class=None):\n",
        "    images, labels = [], []\n",
        "    class_dirs = sorted([d for d in os.listdir(folder) if os.path.isdir(os.path.join(folder,d))])\n",
        "    if not class_dirs:\n",
        "        raise ValueError(f\"No class subfolders found in {folder}\")\n",
        "    for d in class_dirs:\n",
        "        dpath = os.path.join(folder, d)\n",
        "        files = glob.glob(os.path.join(dpath, '*'))\n",
        "        if max_per_class:\n",
        "            files = files[:max_per_class]\n",
        "        for f in files:\n",
        "            img = cv2.imread(f)\n",
        "            if img is None:\n",
        "                continue\n",
        "            img = cv2.cvtColor(img, cv2.COLOR_BGR2RGB)\n",
        "            img = cv2.resize(img, (img_size, img_size))\n",
        "            images.append(img)\n",
        "            labels.append(int(d))\n",
        "    X = np.array(images, dtype='float32') / 255.0\n",
        "    y = np.array(labels, dtype='int32')\n",
        "    return X, y\n",
        "\n",
        "def detect_and_load_dataset(base_dir, img_size=32, max_per_class=None):\n",
        "    candidates = [\n",
        "        os.path.join(base_dir, 'Train'),\n",
        "        os.path.join(base_dir, 'Training'),\n",
        "        os.path.join(base_dir, 'final_training_images'),\n",
        "        os.path.join(base_dir, 'Final_Training/Images'),\n",
        "        os.path.join(base_dir, 'GTSRB/Final_Training/Images'),\n",
        "    ]\n",
        "    for c in candidates:\n",
        "        if os.path.exists(c):\n",
        "            print(\"Yükleniyor:\", c)\n",
        "            return load_images_from_class_folders(c, img_size, max_per_class)\n",
        "    # fallback: üst dizinde numeric klasör arama\n",
        "    for entry in sorted(os.listdir(base_dir)):\n",
        "        p = os.path.join(base_dir, entry)\n",
        "        if os.path.isdir(p):\n",
        "            # eğer içindeki alt klasörler numeric ise kullanım\n",
        "            subs = [d for d in os.listdir(p) if os.path.isdir(os.path.join(p,d))]\n",
        "            numeric = [s for s in subs if s.isdigit()]\n",
        "            if len(numeric) > 10:\n",
        "                print(\"Yükleniyor (fallback):\", p)\n",
        "                return load_images_from_class_folders(p, img_size, max_per_class)\n",
        "    raise FileNotFoundError(\"Train klasörü bulunamadı. Lütfen dataset yapısını kontrol edin.\")\n"
      ],
      "metadata": {
        "id": "tCWYwatlVzfg"
      },
      "execution_count": 5,
      "outputs": []
    },
    {
      "cell_type": "code",
      "source": [
        "# Hücre 6\n",
        "IMG_SIZE = 32\n",
        "print(\"Dataset yükleniyor (biraz zaman alabilir)...\")\n",
        "X, y = detect_and_load_dataset('/content/dataset', img_size=IMG_SIZE, max_per_class=None)\n",
        "print(\"Toplam görüntü:\", X.shape, \"Etiketler:\", y.shape)\n",
        "from sklearn.model_selection import train_test_split\n",
        "from tensorflow.keras.utils import to_categorical\n",
        "num_classes = len(np.unique(y))\n",
        "y_cat = to_categorical(y, num_classes)\n",
        "X_train, X_test, y_train, y_test = train_test_split(X, y_cat, test_size=0.2, stratify=y, random_state=42)\n",
        "print(\"Train:\", X_train.shape, y_train.shape, \"Test:\", X_test.shape, y_test.shape)\n"
      ],
      "metadata": {
        "colab": {
          "base_uri": "https://localhost:8080/"
        },
        "id": "WnsRTKAuV16H",
        "outputId": "92960df4-344a-4d5d-d18d-71db6556fd69"
      },
      "execution_count": 6,
      "outputs": [
        {
          "output_type": "stream",
          "name": "stdout",
          "text": [
            "Dataset yükleniyor (biraz zaman alabilir)...\n",
            "Yükleniyor: /content/dataset/Train\n",
            "Toplam görüntü: (39209, 32, 32, 3) Etiketler: (39209,)\n",
            "Train: (31367, 32, 32, 3) (31367, 43) Test: (7842, 32, 32, 3) (7842, 43)\n"
          ]
        }
      ]
    },
    {
      "cell_type": "code",
      "source": [
        "# Hücre 7 - Model oluştur\n",
        "import tensorflow as tf\n",
        "from tensorflow.keras.models import Sequential\n",
        "from tensorflow.keras.layers import Conv2D, MaxPooling2D, Flatten, Dense, Dropout, BatchNormalization\n",
        "from tensorflow.keras.optimizers import Adam\n",
        "\n",
        "def build_model(input_shape=(32,32,3), num_classes=43):\n",
        "    model = Sequential([\n",
        "        Conv2D(32, (3,3), activation='relu', padding='same', input_shape=input_shape),\n",
        "        BatchNormalization(),\n",
        "        Conv2D(32, (3,3), activation='relu', padding='same'),\n",
        "        MaxPooling2D((2,2)),\n",
        "        Dropout(0.25),\n",
        "\n",
        "        Conv2D(64, (3,3), activation='relu', padding='same'),\n",
        "        BatchNormalization(),\n",
        "        Conv2D(64, (3,3), activation='relu', padding='same'),\n",
        "        MaxPooling2D((2,2)),\n",
        "        Dropout(0.25),\n",
        "\n",
        "        Flatten(),\n",
        "        Dense(256, activation='relu'),\n",
        "        Dropout(0.5),\n",
        "        Dense(num_classes, activation='softmax')\n",
        "    ])\n",
        "    model.compile(optimizer=Adam(learning_rate=1e-3), loss='categorical_crossentropy', metrics=['accuracy'])\n",
        "    return model\n",
        "\n",
        "model = build_model((IMG_SIZE, IMG_SIZE, 3), num_classes)\n",
        "model.summary()\n"
      ],
      "metadata": {
        "colab": {
          "base_uri": "https://localhost:8080/",
          "height": 664
        },
        "id": "-zzfR_aNV4SX",
        "outputId": "dc6e3734-6bfc-4b55-c754-62e31fda8e15"
      },
      "execution_count": 7,
      "outputs": [
        {
          "output_type": "stream",
          "name": "stderr",
          "text": [
            "/usr/local/lib/python3.12/dist-packages/keras/src/layers/convolutional/base_conv.py:113: UserWarning: Do not pass an `input_shape`/`input_dim` argument to a layer. When using Sequential models, prefer using an `Input(shape)` object as the first layer in the model instead.\n",
            "  super().__init__(activity_regularizer=activity_regularizer, **kwargs)\n"
          ]
        },
        {
          "output_type": "display_data",
          "data": {
            "text/plain": [
              "\u001b[1mModel: \"sequential\"\u001b[0m\n"
            ],
            "text/html": [
              "<pre style=\"white-space:pre;overflow-x:auto;line-height:normal;font-family:Menlo,'DejaVu Sans Mono',consolas,'Courier New',monospace\"><span style=\"font-weight: bold\">Model: \"sequential\"</span>\n",
              "</pre>\n"
            ]
          },
          "metadata": {}
        },
        {
          "output_type": "display_data",
          "data": {
            "text/plain": [
              "┏━━━━━━━━━━━━━━━━━━━━━━━━━━━━━━━━━┳━━━━━━━━━━━━━━━━━━━━━━━━┳━━━━━━━━━━━━━━━┓\n",
              "┃\u001b[1m \u001b[0m\u001b[1mLayer (type)                   \u001b[0m\u001b[1m \u001b[0m┃\u001b[1m \u001b[0m\u001b[1mOutput Shape          \u001b[0m\u001b[1m \u001b[0m┃\u001b[1m \u001b[0m\u001b[1m      Param #\u001b[0m\u001b[1m \u001b[0m┃\n",
              "┡━━━━━━━━━━━━━━━━━━━━━━━━━━━━━━━━━╇━━━━━━━━━━━━━━━━━━━━━━━━╇━━━━━━━━━━━━━━━┩\n",
              "│ conv2d (\u001b[38;5;33mConv2D\u001b[0m)                 │ (\u001b[38;5;45mNone\u001b[0m, \u001b[38;5;34m32\u001b[0m, \u001b[38;5;34m32\u001b[0m, \u001b[38;5;34m32\u001b[0m)     │           \u001b[38;5;34m896\u001b[0m │\n",
              "├─────────────────────────────────┼────────────────────────┼───────────────┤\n",
              "│ batch_normalization             │ (\u001b[38;5;45mNone\u001b[0m, \u001b[38;5;34m32\u001b[0m, \u001b[38;5;34m32\u001b[0m, \u001b[38;5;34m32\u001b[0m)     │           \u001b[38;5;34m128\u001b[0m │\n",
              "│ (\u001b[38;5;33mBatchNormalization\u001b[0m)            │                        │               │\n",
              "├─────────────────────────────────┼────────────────────────┼───────────────┤\n",
              "│ conv2d_1 (\u001b[38;5;33mConv2D\u001b[0m)               │ (\u001b[38;5;45mNone\u001b[0m, \u001b[38;5;34m32\u001b[0m, \u001b[38;5;34m32\u001b[0m, \u001b[38;5;34m32\u001b[0m)     │         \u001b[38;5;34m9,248\u001b[0m │\n",
              "├─────────────────────────────────┼────────────────────────┼───────────────┤\n",
              "│ max_pooling2d (\u001b[38;5;33mMaxPooling2D\u001b[0m)    │ (\u001b[38;5;45mNone\u001b[0m, \u001b[38;5;34m16\u001b[0m, \u001b[38;5;34m16\u001b[0m, \u001b[38;5;34m32\u001b[0m)     │             \u001b[38;5;34m0\u001b[0m │\n",
              "├─────────────────────────────────┼────────────────────────┼───────────────┤\n",
              "│ dropout (\u001b[38;5;33mDropout\u001b[0m)               │ (\u001b[38;5;45mNone\u001b[0m, \u001b[38;5;34m16\u001b[0m, \u001b[38;5;34m16\u001b[0m, \u001b[38;5;34m32\u001b[0m)     │             \u001b[38;5;34m0\u001b[0m │\n",
              "├─────────────────────────────────┼────────────────────────┼───────────────┤\n",
              "│ conv2d_2 (\u001b[38;5;33mConv2D\u001b[0m)               │ (\u001b[38;5;45mNone\u001b[0m, \u001b[38;5;34m16\u001b[0m, \u001b[38;5;34m16\u001b[0m, \u001b[38;5;34m64\u001b[0m)     │        \u001b[38;5;34m18,496\u001b[0m │\n",
              "├─────────────────────────────────┼────────────────────────┼───────────────┤\n",
              "│ batch_normalization_1           │ (\u001b[38;5;45mNone\u001b[0m, \u001b[38;5;34m16\u001b[0m, \u001b[38;5;34m16\u001b[0m, \u001b[38;5;34m64\u001b[0m)     │           \u001b[38;5;34m256\u001b[0m │\n",
              "│ (\u001b[38;5;33mBatchNormalization\u001b[0m)            │                        │               │\n",
              "├─────────────────────────────────┼────────────────────────┼───────────────┤\n",
              "│ conv2d_3 (\u001b[38;5;33mConv2D\u001b[0m)               │ (\u001b[38;5;45mNone\u001b[0m, \u001b[38;5;34m16\u001b[0m, \u001b[38;5;34m16\u001b[0m, \u001b[38;5;34m64\u001b[0m)     │        \u001b[38;5;34m36,928\u001b[0m │\n",
              "├─────────────────────────────────┼────────────────────────┼───────────────┤\n",
              "│ max_pooling2d_1 (\u001b[38;5;33mMaxPooling2D\u001b[0m)  │ (\u001b[38;5;45mNone\u001b[0m, \u001b[38;5;34m8\u001b[0m, \u001b[38;5;34m8\u001b[0m, \u001b[38;5;34m64\u001b[0m)       │             \u001b[38;5;34m0\u001b[0m │\n",
              "├─────────────────────────────────┼────────────────────────┼───────────────┤\n",
              "│ dropout_1 (\u001b[38;5;33mDropout\u001b[0m)             │ (\u001b[38;5;45mNone\u001b[0m, \u001b[38;5;34m8\u001b[0m, \u001b[38;5;34m8\u001b[0m, \u001b[38;5;34m64\u001b[0m)       │             \u001b[38;5;34m0\u001b[0m │\n",
              "├─────────────────────────────────┼────────────────────────┼───────────────┤\n",
              "│ flatten (\u001b[38;5;33mFlatten\u001b[0m)               │ (\u001b[38;5;45mNone\u001b[0m, \u001b[38;5;34m4096\u001b[0m)           │             \u001b[38;5;34m0\u001b[0m │\n",
              "├─────────────────────────────────┼────────────────────────┼───────────────┤\n",
              "│ dense (\u001b[38;5;33mDense\u001b[0m)                   │ (\u001b[38;5;45mNone\u001b[0m, \u001b[38;5;34m256\u001b[0m)            │     \u001b[38;5;34m1,048,832\u001b[0m │\n",
              "├─────────────────────────────────┼────────────────────────┼───────────────┤\n",
              "│ dropout_2 (\u001b[38;5;33mDropout\u001b[0m)             │ (\u001b[38;5;45mNone\u001b[0m, \u001b[38;5;34m256\u001b[0m)            │             \u001b[38;5;34m0\u001b[0m │\n",
              "├─────────────────────────────────┼────────────────────────┼───────────────┤\n",
              "│ dense_1 (\u001b[38;5;33mDense\u001b[0m)                 │ (\u001b[38;5;45mNone\u001b[0m, \u001b[38;5;34m43\u001b[0m)             │        \u001b[38;5;34m11,051\u001b[0m │\n",
              "└─────────────────────────────────┴────────────────────────┴───────────────┘\n"
            ],
            "text/html": [
              "<pre style=\"white-space:pre;overflow-x:auto;line-height:normal;font-family:Menlo,'DejaVu Sans Mono',consolas,'Courier New',monospace\">┏━━━━━━━━━━━━━━━━━━━━━━━━━━━━━━━━━┳━━━━━━━━━━━━━━━━━━━━━━━━┳━━━━━━━━━━━━━━━┓\n",
              "┃<span style=\"font-weight: bold\"> Layer (type)                    </span>┃<span style=\"font-weight: bold\"> Output Shape           </span>┃<span style=\"font-weight: bold\">       Param # </span>┃\n",
              "┡━━━━━━━━━━━━━━━━━━━━━━━━━━━━━━━━━╇━━━━━━━━━━━━━━━━━━━━━━━━╇━━━━━━━━━━━━━━━┩\n",
              "│ conv2d (<span style=\"color: #0087ff; text-decoration-color: #0087ff\">Conv2D</span>)                 │ (<span style=\"color: #00d7ff; text-decoration-color: #00d7ff\">None</span>, <span style=\"color: #00af00; text-decoration-color: #00af00\">32</span>, <span style=\"color: #00af00; text-decoration-color: #00af00\">32</span>, <span style=\"color: #00af00; text-decoration-color: #00af00\">32</span>)     │           <span style=\"color: #00af00; text-decoration-color: #00af00\">896</span> │\n",
              "├─────────────────────────────────┼────────────────────────┼───────────────┤\n",
              "│ batch_normalization             │ (<span style=\"color: #00d7ff; text-decoration-color: #00d7ff\">None</span>, <span style=\"color: #00af00; text-decoration-color: #00af00\">32</span>, <span style=\"color: #00af00; text-decoration-color: #00af00\">32</span>, <span style=\"color: #00af00; text-decoration-color: #00af00\">32</span>)     │           <span style=\"color: #00af00; text-decoration-color: #00af00\">128</span> │\n",
              "│ (<span style=\"color: #0087ff; text-decoration-color: #0087ff\">BatchNormalization</span>)            │                        │               │\n",
              "├─────────────────────────────────┼────────────────────────┼───────────────┤\n",
              "│ conv2d_1 (<span style=\"color: #0087ff; text-decoration-color: #0087ff\">Conv2D</span>)               │ (<span style=\"color: #00d7ff; text-decoration-color: #00d7ff\">None</span>, <span style=\"color: #00af00; text-decoration-color: #00af00\">32</span>, <span style=\"color: #00af00; text-decoration-color: #00af00\">32</span>, <span style=\"color: #00af00; text-decoration-color: #00af00\">32</span>)     │         <span style=\"color: #00af00; text-decoration-color: #00af00\">9,248</span> │\n",
              "├─────────────────────────────────┼────────────────────────┼───────────────┤\n",
              "│ max_pooling2d (<span style=\"color: #0087ff; text-decoration-color: #0087ff\">MaxPooling2D</span>)    │ (<span style=\"color: #00d7ff; text-decoration-color: #00d7ff\">None</span>, <span style=\"color: #00af00; text-decoration-color: #00af00\">16</span>, <span style=\"color: #00af00; text-decoration-color: #00af00\">16</span>, <span style=\"color: #00af00; text-decoration-color: #00af00\">32</span>)     │             <span style=\"color: #00af00; text-decoration-color: #00af00\">0</span> │\n",
              "├─────────────────────────────────┼────────────────────────┼───────────────┤\n",
              "│ dropout (<span style=\"color: #0087ff; text-decoration-color: #0087ff\">Dropout</span>)               │ (<span style=\"color: #00d7ff; text-decoration-color: #00d7ff\">None</span>, <span style=\"color: #00af00; text-decoration-color: #00af00\">16</span>, <span style=\"color: #00af00; text-decoration-color: #00af00\">16</span>, <span style=\"color: #00af00; text-decoration-color: #00af00\">32</span>)     │             <span style=\"color: #00af00; text-decoration-color: #00af00\">0</span> │\n",
              "├─────────────────────────────────┼────────────────────────┼───────────────┤\n",
              "│ conv2d_2 (<span style=\"color: #0087ff; text-decoration-color: #0087ff\">Conv2D</span>)               │ (<span style=\"color: #00d7ff; text-decoration-color: #00d7ff\">None</span>, <span style=\"color: #00af00; text-decoration-color: #00af00\">16</span>, <span style=\"color: #00af00; text-decoration-color: #00af00\">16</span>, <span style=\"color: #00af00; text-decoration-color: #00af00\">64</span>)     │        <span style=\"color: #00af00; text-decoration-color: #00af00\">18,496</span> │\n",
              "├─────────────────────────────────┼────────────────────────┼───────────────┤\n",
              "│ batch_normalization_1           │ (<span style=\"color: #00d7ff; text-decoration-color: #00d7ff\">None</span>, <span style=\"color: #00af00; text-decoration-color: #00af00\">16</span>, <span style=\"color: #00af00; text-decoration-color: #00af00\">16</span>, <span style=\"color: #00af00; text-decoration-color: #00af00\">64</span>)     │           <span style=\"color: #00af00; text-decoration-color: #00af00\">256</span> │\n",
              "│ (<span style=\"color: #0087ff; text-decoration-color: #0087ff\">BatchNormalization</span>)            │                        │               │\n",
              "├─────────────────────────────────┼────────────────────────┼───────────────┤\n",
              "│ conv2d_3 (<span style=\"color: #0087ff; text-decoration-color: #0087ff\">Conv2D</span>)               │ (<span style=\"color: #00d7ff; text-decoration-color: #00d7ff\">None</span>, <span style=\"color: #00af00; text-decoration-color: #00af00\">16</span>, <span style=\"color: #00af00; text-decoration-color: #00af00\">16</span>, <span style=\"color: #00af00; text-decoration-color: #00af00\">64</span>)     │        <span style=\"color: #00af00; text-decoration-color: #00af00\">36,928</span> │\n",
              "├─────────────────────────────────┼────────────────────────┼───────────────┤\n",
              "│ max_pooling2d_1 (<span style=\"color: #0087ff; text-decoration-color: #0087ff\">MaxPooling2D</span>)  │ (<span style=\"color: #00d7ff; text-decoration-color: #00d7ff\">None</span>, <span style=\"color: #00af00; text-decoration-color: #00af00\">8</span>, <span style=\"color: #00af00; text-decoration-color: #00af00\">8</span>, <span style=\"color: #00af00; text-decoration-color: #00af00\">64</span>)       │             <span style=\"color: #00af00; text-decoration-color: #00af00\">0</span> │\n",
              "├─────────────────────────────────┼────────────────────────┼───────────────┤\n",
              "│ dropout_1 (<span style=\"color: #0087ff; text-decoration-color: #0087ff\">Dropout</span>)             │ (<span style=\"color: #00d7ff; text-decoration-color: #00d7ff\">None</span>, <span style=\"color: #00af00; text-decoration-color: #00af00\">8</span>, <span style=\"color: #00af00; text-decoration-color: #00af00\">8</span>, <span style=\"color: #00af00; text-decoration-color: #00af00\">64</span>)       │             <span style=\"color: #00af00; text-decoration-color: #00af00\">0</span> │\n",
              "├─────────────────────────────────┼────────────────────────┼───────────────┤\n",
              "│ flatten (<span style=\"color: #0087ff; text-decoration-color: #0087ff\">Flatten</span>)               │ (<span style=\"color: #00d7ff; text-decoration-color: #00d7ff\">None</span>, <span style=\"color: #00af00; text-decoration-color: #00af00\">4096</span>)           │             <span style=\"color: #00af00; text-decoration-color: #00af00\">0</span> │\n",
              "├─────────────────────────────────┼────────────────────────┼───────────────┤\n",
              "│ dense (<span style=\"color: #0087ff; text-decoration-color: #0087ff\">Dense</span>)                   │ (<span style=\"color: #00d7ff; text-decoration-color: #00d7ff\">None</span>, <span style=\"color: #00af00; text-decoration-color: #00af00\">256</span>)            │     <span style=\"color: #00af00; text-decoration-color: #00af00\">1,048,832</span> │\n",
              "├─────────────────────────────────┼────────────────────────┼───────────────┤\n",
              "│ dropout_2 (<span style=\"color: #0087ff; text-decoration-color: #0087ff\">Dropout</span>)             │ (<span style=\"color: #00d7ff; text-decoration-color: #00d7ff\">None</span>, <span style=\"color: #00af00; text-decoration-color: #00af00\">256</span>)            │             <span style=\"color: #00af00; text-decoration-color: #00af00\">0</span> │\n",
              "├─────────────────────────────────┼────────────────────────┼───────────────┤\n",
              "│ dense_1 (<span style=\"color: #0087ff; text-decoration-color: #0087ff\">Dense</span>)                 │ (<span style=\"color: #00d7ff; text-decoration-color: #00d7ff\">None</span>, <span style=\"color: #00af00; text-decoration-color: #00af00\">43</span>)             │        <span style=\"color: #00af00; text-decoration-color: #00af00\">11,051</span> │\n",
              "└─────────────────────────────────┴────────────────────────┴───────────────┘\n",
              "</pre>\n"
            ]
          },
          "metadata": {}
        },
        {
          "output_type": "display_data",
          "data": {
            "text/plain": [
              "\u001b[1m Total params: \u001b[0m\u001b[38;5;34m1,125,835\u001b[0m (4.29 MB)\n"
            ],
            "text/html": [
              "<pre style=\"white-space:pre;overflow-x:auto;line-height:normal;font-family:Menlo,'DejaVu Sans Mono',consolas,'Courier New',monospace\"><span style=\"font-weight: bold\"> Total params: </span><span style=\"color: #00af00; text-decoration-color: #00af00\">1,125,835</span> (4.29 MB)\n",
              "</pre>\n"
            ]
          },
          "metadata": {}
        },
        {
          "output_type": "display_data",
          "data": {
            "text/plain": [
              "\u001b[1m Trainable params: \u001b[0m\u001b[38;5;34m1,125,643\u001b[0m (4.29 MB)\n"
            ],
            "text/html": [
              "<pre style=\"white-space:pre;overflow-x:auto;line-height:normal;font-family:Menlo,'DejaVu Sans Mono',consolas,'Courier New',monospace\"><span style=\"font-weight: bold\"> Trainable params: </span><span style=\"color: #00af00; text-decoration-color: #00af00\">1,125,643</span> (4.29 MB)\n",
              "</pre>\n"
            ]
          },
          "metadata": {}
        },
        {
          "output_type": "display_data",
          "data": {
            "text/plain": [
              "\u001b[1m Non-trainable params: \u001b[0m\u001b[38;5;34m192\u001b[0m (768.00 B)\n"
            ],
            "text/html": [
              "<pre style=\"white-space:pre;overflow-x:auto;line-height:normal;font-family:Menlo,'DejaVu Sans Mono',consolas,'Courier New',monospace\"><span style=\"font-weight: bold\"> Non-trainable params: </span><span style=\"color: #00af00; text-decoration-color: #00af00\">192</span> (768.00 B)\n",
              "</pre>\n"
            ]
          },
          "metadata": {}
        }
      ]
    },
    {
      "cell_type": "code",
      "source": [
        "# Hücre 8\n",
        "import matplotlib.pyplot as plt\n",
        "EPOCHS = 10\n",
        "BATCH_SIZE = 64\n",
        "\n",
        "history = model.fit(X_train, y_train,\n",
        "                    validation_data=(X_test, y_test),\n",
        "                    epochs=EPOCHS,\n",
        "                    batch_size=BATCH_SIZE)\n",
        "\n",
        "plt.figure(figsize=(12,4))\n",
        "plt.subplot(1,2,1)\n",
        "# Eğitim Doğruluğu\n",
        "plt.plot(history.history['accuracy'], label='Training')\n",
        "# Doğrulama Doğruluğu\n",
        "plt.plot(history.history['val_accuracy'], label='Validation')\n",
        "plt.title('Model Accuracy')\n",
        "plt.xlabel('Epoch')\n",
        "plt.ylabel('Accuracy')\n",
        "plt.legend()\n",
        "\n",
        "# Loss Plot\n",
        "plt.subplot(1,2,2)\n",
        "plt.plot(history.history['loss'], label='Training')\n",
        "plt.plot(history.history['val_loss'], label='Validation')\n",
        "plt.title('Model Loss')\n",
        "plt.xlabel('Epoch')\n",
        "plt.ylabel('Loss')\n",
        "plt.legend()\n",
        "\n",
        "plt.tight_layout()\n",
        "plt.show()"
      ],
      "metadata": {
        "colab": {
          "base_uri": "https://localhost:8080/",
          "height": 716
        },
        "id": "Cvk0FcoYV6Hv",
        "outputId": "a44c5971-83e0-430d-962c-6b32386e3984"
      },
      "execution_count": 11,
      "outputs": [
        {
          "output_type": "stream",
          "name": "stdout",
          "text": [
            "Epoch 1/10\n",
            "\u001b[1m491/491\u001b[0m \u001b[32m━━━━━━━━━━━━━━━━━━━━\u001b[0m\u001b[37m\u001b[0m \u001b[1m5s\u001b[0m 10ms/step - accuracy: 0.9825 - loss: 0.0545 - val_accuracy: 0.9969 - val_loss: 0.0147\n",
            "Epoch 2/10\n",
            "\u001b[1m491/491\u001b[0m \u001b[32m━━━━━━━━━━━━━━━━━━━━\u001b[0m\u001b[37m\u001b[0m \u001b[1m4s\u001b[0m 8ms/step - accuracy: 0.9865 - loss: 0.0435 - val_accuracy: 0.9983 - val_loss: 0.0100\n",
            "Epoch 3/10\n",
            "\u001b[1m491/491\u001b[0m \u001b[32m━━━━━━━━━━━━━━━━━━━━\u001b[0m\u001b[37m\u001b[0m \u001b[1m4s\u001b[0m 8ms/step - accuracy: 0.9857 - loss: 0.0490 - val_accuracy: 0.9968 - val_loss: 0.0123\n",
            "Epoch 4/10\n",
            "\u001b[1m491/491\u001b[0m \u001b[32m━━━━━━━━━━━━━━━━━━━━\u001b[0m\u001b[37m\u001b[0m \u001b[1m4s\u001b[0m 9ms/step - accuracy: 0.9891 - loss: 0.0384 - val_accuracy: 0.9973 - val_loss: 0.0131\n",
            "Epoch 5/10\n",
            "\u001b[1m491/491\u001b[0m \u001b[32m━━━━━━━━━━━━━━━━━━━━\u001b[0m\u001b[37m\u001b[0m \u001b[1m4s\u001b[0m 7ms/step - accuracy: 0.9900 - loss: 0.0325 - val_accuracy: 0.9968 - val_loss: 0.0126\n",
            "Epoch 6/10\n",
            "\u001b[1m491/491\u001b[0m \u001b[32m━━━━━━━━━━━━━━━━━━━━\u001b[0m\u001b[37m\u001b[0m \u001b[1m4s\u001b[0m 8ms/step - accuracy: 0.9879 - loss: 0.0426 - val_accuracy: 0.9973 - val_loss: 0.0112\n",
            "Epoch 7/10\n",
            "\u001b[1m491/491\u001b[0m \u001b[32m━━━━━━━━━━━━━━━━━━━━\u001b[0m\u001b[37m\u001b[0m \u001b[1m4s\u001b[0m 8ms/step - accuracy: 0.9912 - loss: 0.0316 - val_accuracy: 0.9968 - val_loss: 0.0168\n",
            "Epoch 8/10\n",
            "\u001b[1m491/491\u001b[0m \u001b[32m━━━━━━━━━━━━━━━━━━━━\u001b[0m\u001b[37m\u001b[0m \u001b[1m4s\u001b[0m 7ms/step - accuracy: 0.9909 - loss: 0.0316 - val_accuracy: 0.9962 - val_loss: 0.0155\n",
            "Epoch 9/10\n",
            "\u001b[1m491/491\u001b[0m \u001b[32m━━━━━━━━━━━━━━━━━━━━\u001b[0m\u001b[37m\u001b[0m \u001b[1m5s\u001b[0m 10ms/step - accuracy: 0.9892 - loss: 0.0363 - val_accuracy: 0.9962 - val_loss: 0.0147\n",
            "Epoch 10/10\n",
            "\u001b[1m491/491\u001b[0m \u001b[32m━━━━━━━━━━━━━━━━━━━━\u001b[0m\u001b[37m\u001b[0m \u001b[1m4s\u001b[0m 8ms/step - accuracy: 0.9910 - loss: 0.0329 - val_accuracy: 0.9967 - val_loss: 0.0145\n"
          ]
        },
        {
          "output_type": "display_data",
          "data": {
            "text/plain": [
              "<Figure size 1200x400 with 2 Axes>"
            ],
            "image/png": "[encoded data removed]"
          },
          "metadata": {}
        }
      ]
    },
    {
      "cell_type": "code",
      "source": [
        "# Hücre 9 - Model kaydetme\n",
        "model_path = '/content/Traffic_signs_model.keras'\n",
        "model.save(model_path)\n",
        "print(\"Model kaydedildi:\", model_path)\n",
        "\n",
        "# Kaydedilen dosyaları göster\n",
        "!ls -la /content | sed -n '1,200p'\n"
      ],
      "metadata": {
        "colab": {
          "base_uri": "https://localhost:8080/"
        },
        "id": "Xhrh3-R7V7-3",
        "outputId": "eede9507-806d-4b5d-9336-3aac43cdb0c7"
      },
      "execution_count": 9,
      "outputs": [
        {
          "output_type": "stream",
          "name": "stdout",
          "text": [
            "Model kaydedildi: /content/Traffic_signs_model.keras\n",
            "total 13284\n",
            "drwxr-xr-x 1 root root     4096 Oct  2 14:35 .\n",
            "drwxr-xr-x 1 root root     4096 Oct  2 14:31 ..\n",
            "drwxr-xr-x 4 root root     4096 Sep 30 13:38 .config\n",
            "drwxr-xr-x 8 root root     4096 Oct  2 14:34 dataset\n",
            "-rw-r--r-- 1 root root       70 Oct  2 14:32 kaggle.json\n",
            "drwxr-xr-x 1 root root     4096 Sep 30 13:39 sample_data\n",
            "-rw-r--r-- 1 root root 13575020 Oct  2 14:35 Traffic_signs_model.keras\n"
          ]
        }
      ]
    },
    {
      "cell_type": "code",
      "source": [
        "# Hücre 10 - Tek görüntü için inference fonksiyonu\n",
        "import numpy as np\n",
        "import cv2\n",
        "import tensorflow as tf\n",
        "from tensorflow.keras.models import load_model\n",
        "class_map = None\n",
        "\n",
        "def inference_single(image_path, model_path='/content/Traffic_signs_model.keras', img_size=IMG_SIZE, class_map=None):\n",
        "    img = cv2.imread(image_path)\n",
        "    if img is None:\n",
        "        raise FileNotFoundError(f\"Görüntü okunamadı: {image_path}\")\n",
        "    img = cv2.cvtColor(img, cv2.COLOR_BGR2RGB)\n",
        "    img = cv2.resize(img, (img_size, img_size))\n",
        "    x = img.astype('float32') / 255.0\n",
        "    x = np.expand_dims(x, axis=0)\n",
        "    model = load_model(model_path)\n",
        "    preds = model.predict(x)\n",
        "    prob = float(np.max(preds))\n",
        "    label_idx = int(np.argmax(preds))\n",
        "    label_name = class_map[label_idx] if (class_map is not None and label_idx in class_map) else str(label_idx)\n",
        "    return label_name, prob\n",
        "\n",
        "# Örnek kullanım\n",
        "example = None\n",
        "for root, dirs, files in os.walk('/content/dataset'):\n",
        "    for f in files[:1]:\n",
        "        if f.lower().endswith(('.png','.ppm','.jpg','.jpeg')):\n",
        "            example = os.path.join(root,f)\n",
        "            break\n",
        "    if example:\n",
        "        break\n",
        "\n",
        "if example:\n",
        "    print(\"Örnek dosyada inference çalıştırılıyor:\", example)\n",
        "    print(inference_single(example, model_path=model_path, img_size=IMG_SIZE, class_map=class_map))\n",
        "else:\n",
        "    print(\"Örnek görüntü bulunamadı; kendi test görselini path ile vererek deneyin.\")\n"
      ],
      "metadata": {
        "colab": {
          "base_uri": "https://localhost:8080/"
        },
        "id": "FImVPn-WV_Um",
        "outputId": "5e07cc71-de0c-4ec0-ea50-15e717375c88"
      },
      "execution_count": 10,
      "outputs": [
        {
          "output_type": "stream",
          "name": "stdout",
          "text": [
            "Örnek dosyada inference çalıştırılıyor: /content/dataset/meta/3.png\n",
            "\u001b[1m1/1\u001b[0m \u001b[32m━━━━━━━━━━━━━━━━━━━━\u001b[0m\u001b[37m\u001b[0m \u001b[1m1s\u001b[0m 926ms/step\n",
            "('6', 0.49821650981903076)\n"
          ]
        }
      ]
    }
  ]
}